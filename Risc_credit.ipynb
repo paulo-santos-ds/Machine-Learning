{
  "cells": [
    {
      "cell_type": "markdown",
      "metadata": {
        "id": "view-in-github",
        "colab_type": "text"
      },
      "source": [
        "<a href=\"https://colab.research.google.com/github/paulo-santos-ds/Machine-Learning/blob/main/Risc_credit.ipynb\" target=\"_parent\"><img src=\"https://colab.research.google.com/assets/colab-badge.svg\" alt=\"Open In Colab\"/></a>"
      ]
    },
    {
      "cell_type": "markdown",
      "source": [
        "\n",
        "A avaliação de risco de crédito é um processo crítico para minimizar o risco de inadimplência. As empresas e instituições financeiras usam uma variedade de métodos e técnicas para avaliar o risco de crédito de um cliente, incluindo análises de histórico de crédito, pontuações de crédito, análises financeiras e modelos estatísticos e de aprendizado de máquina."
      ],
      "metadata": {
        "id": "fiCkDIFvCkep"
      },
      "id": "fiCkDIFvCkep"
    },
    {
      "cell_type": "code",
      "execution_count": null,
      "id": "69a1a6b9",
      "metadata": {
        "id": "69a1a6b9"
      },
      "outputs": [],
      "source": [
        "import pandas as pd\n",
        "from sklearn.model_selection import train_test_split\n",
        "from sklearn.linear_model import LogisticRegression\n",
        "from sklearn.metrics import classification_report"
      ]
    },
    {
      "cell_type": "code",
      "execution_count": null,
      "id": "464ce2e6",
      "metadata": {
        "id": "464ce2e6"
      },
      "outputs": [],
      "source": [
        "# Importar dados de crédito\n",
        "data = pd.read_csv('credit_data.csv')"
      ]
    },
    {
      "cell_type": "code",
      "execution_count": null,
      "id": "b11d4206",
      "metadata": {
        "id": "b11d4206"
      },
      "outputs": [],
      "source": [
        "# Limpar dados\n",
        "data = data.dropna()"
      ]
    },
    {
      "cell_type": "code",
      "execution_count": null,
      "id": "1e6ffbdc",
      "metadata": {
        "id": "1e6ffbdc"
      },
      "outputs": [],
      "source": [
        "# Dividir os dados em treinamento e teste\n",
        "X_train, X_test, y_train, y_test = train_test_split(data[['income', 'age', 'loan']], data['default'], test_size=0.3)"
      ]
    },
    {
      "cell_type": "code",
      "execution_count": null,
      "id": "6fd85098",
      "metadata": {
        "id": "6fd85098"
      },
      "outputs": [],
      "source": [
        "# Treinar modelo de regressão logística\n",
        "model = LogisticRegression()\n",
        "model.fit(X_train, y_train)"
      ]
    },
    {
      "cell_type": "code",
      "execution_count": null,
      "id": "42fa5b4a",
      "metadata": {
        "id": "42fa5b4a"
      },
      "outputs": [],
      "source": [
        "# Fazer previsões com o modelo treinado\n",
        "predictions = model.predict(X_test)"
      ]
    },
    {
      "cell_type": "code",
      "execution_count": null,
      "id": "405879d3",
      "metadata": {
        "id": "405879d3"
      },
      "outputs": [],
      "source": [
        "# Avaliar a precisão do modelo\n",
        "print(classification_report(y_test, predictions))"
      ]
    }
  ],
  "metadata": {
    "kernelspec": {
      "display_name": "Python 3 (ipykernel)",
      "language": "python",
      "name": "python3"
    },
    "language_info": {
      "codemirror_mode": {
        "name": "ipython",
        "version": 3
      },
      "file_extension": ".py",
      "mimetype": "text/x-python",
      "name": "python",
      "nbconvert_exporter": "python",
      "pygments_lexer": "ipython3",
      "version": "3.11.1"
    },
    "colab": {
      "provenance": [],
      "include_colab_link": true
    }
  },
  "nbformat": 4,
  "nbformat_minor": 5
}